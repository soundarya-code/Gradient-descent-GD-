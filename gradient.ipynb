{
 "cells": [
  {
   "cell_type": "code",
   "execution_count": 1,
   "id": "4aaa858e",
   "metadata": {},
   "outputs": [
    {
     "data": {
      "text/html": [
       "<div>\n",
       "<style scoped>\n",
       "    .dataframe tbody tr th:only-of-type {\n",
       "        vertical-align: middle;\n",
       "    }\n",
       "\n",
       "    .dataframe tbody tr th {\n",
       "        vertical-align: top;\n",
       "    }\n",
       "\n",
       "    .dataframe thead th {\n",
       "        text-align: right;\n",
       "    }\n",
       "</style>\n",
       "<table border=\"1\" class=\"dataframe\">\n",
       "  <thead>\n",
       "    <tr style=\"text-align: right;\">\n",
       "      <th></th>\n",
       "      <th>age</th>\n",
       "      <th>afford</th>\n",
       "      <th>insurance</th>\n",
       "    </tr>\n",
       "  </thead>\n",
       "  <tbody>\n",
       "    <tr>\n",
       "      <th>0</th>\n",
       "      <td>12</td>\n",
       "      <td>0</td>\n",
       "      <td>0</td>\n",
       "    </tr>\n",
       "    <tr>\n",
       "      <th>1</th>\n",
       "      <td>55</td>\n",
       "      <td>1</td>\n",
       "      <td>1</td>\n",
       "    </tr>\n",
       "    <tr>\n",
       "      <th>2</th>\n",
       "      <td>78</td>\n",
       "      <td>1</td>\n",
       "      <td>0</td>\n",
       "    </tr>\n",
       "    <tr>\n",
       "      <th>3</th>\n",
       "      <td>90</td>\n",
       "      <td>0</td>\n",
       "      <td>0</td>\n",
       "    </tr>\n",
       "    <tr>\n",
       "      <th>4</th>\n",
       "      <td>47</td>\n",
       "      <td>1</td>\n",
       "      <td>1</td>\n",
       "    </tr>\n",
       "  </tbody>\n",
       "</table>\n",
       "</div>"
      ],
      "text/plain": [
       "   age  afford  insurance\n",
       "0   12       0          0\n",
       "1   55       1          1\n",
       "2   78       1          0\n",
       "3   90       0          0\n",
       "4   47       1          1"
      ]
     },
     "execution_count": 1,
     "metadata": {},
     "output_type": "execute_result"
    }
   ],
   "source": [
    "from sklearn import datasets,linear_model\n",
    "import numpy as np\n",
    "import matplotlib.pyplot as plt\n",
    "import pandas as pd\n",
    "\n",
    "i=pd.read_csv('insu.csv')\n",
    "# features=i['data']\n",
    "# label=i['target']\n",
    "i.head()\n"
   ]
  },
  {
   "cell_type": "code",
   "execution_count": 2,
   "id": "eb50713f",
   "metadata": {},
   "outputs": [],
   "source": [
    "from sklearn.model_selection import train_test_split"
   ]
  },
  {
   "cell_type": "code",
   "execution_count": 3,
   "id": "1bd1ae0b",
   "metadata": {},
   "outputs": [],
   "source": [
    "x_train,x_test,y_train,y_test=train_test_split(i[['age','afford']],i.insurance,test_size=0.2,random_state=42)"
   ]
  },
  {
   "cell_type": "code",
   "execution_count": 4,
   "id": "3e566aec",
   "metadata": {},
   "outputs": [
    {
     "data": {
      "text/html": [
       "<div>\n",
       "<style scoped>\n",
       "    .dataframe tbody tr th:only-of-type {\n",
       "        vertical-align: middle;\n",
       "    }\n",
       "\n",
       "    .dataframe tbody tr th {\n",
       "        vertical-align: top;\n",
       "    }\n",
       "\n",
       "    .dataframe thead th {\n",
       "        text-align: right;\n",
       "    }\n",
       "</style>\n",
       "<table border=\"1\" class=\"dataframe\">\n",
       "  <thead>\n",
       "    <tr style=\"text-align: right;\">\n",
       "      <th></th>\n",
       "      <th>age</th>\n",
       "      <th>afford</th>\n",
       "    </tr>\n",
       "  </thead>\n",
       "  <tbody>\n",
       "    <tr>\n",
       "      <th>8</th>\n",
       "      <td>15</td>\n",
       "      <td>1</td>\n",
       "    </tr>\n",
       "    <tr>\n",
       "      <th>16</th>\n",
       "      <td>66</td>\n",
       "      <td>0</td>\n",
       "    </tr>\n",
       "    <tr>\n",
       "      <th>3</th>\n",
       "      <td>90</td>\n",
       "      <td>0</td>\n",
       "    </tr>\n",
       "    <tr>\n",
       "      <th>13</th>\n",
       "      <td>37</td>\n",
       "      <td>0</td>\n",
       "    </tr>\n",
       "    <tr>\n",
       "      <th>15</th>\n",
       "      <td>49</td>\n",
       "      <td>0</td>\n",
       "    </tr>\n",
       "    <tr>\n",
       "      <th>17</th>\n",
       "      <td>99</td>\n",
       "      <td>1</td>\n",
       "    </tr>\n",
       "    <tr>\n",
       "      <th>2</th>\n",
       "      <td>78</td>\n",
       "      <td>1</td>\n",
       "    </tr>\n",
       "    <tr>\n",
       "      <th>9</th>\n",
       "      <td>67</td>\n",
       "      <td>1</td>\n",
       "    </tr>\n",
       "    <tr>\n",
       "      <th>18</th>\n",
       "      <td>32</td>\n",
       "      <td>1</td>\n",
       "    </tr>\n",
       "    <tr>\n",
       "      <th>4</th>\n",
       "      <td>47</td>\n",
       "      <td>1</td>\n",
       "    </tr>\n",
       "    <tr>\n",
       "      <th>12</th>\n",
       "      <td>49</td>\n",
       "      <td>0</td>\n",
       "    </tr>\n",
       "    <tr>\n",
       "      <th>7</th>\n",
       "      <td>78</td>\n",
       "      <td>1</td>\n",
       "    </tr>\n",
       "    <tr>\n",
       "      <th>10</th>\n",
       "      <td>19</td>\n",
       "      <td>0</td>\n",
       "    </tr>\n",
       "    <tr>\n",
       "      <th>14</th>\n",
       "      <td>55</td>\n",
       "      <td>1</td>\n",
       "    </tr>\n",
       "    <tr>\n",
       "      <th>6</th>\n",
       "      <td>30</td>\n",
       "      <td>0</td>\n",
       "    </tr>\n",
       "  </tbody>\n",
       "</table>\n",
       "</div>"
      ],
      "text/plain": [
       "    age  afford\n",
       "8    15       1\n",
       "16   66       0\n",
       "3    90       0\n",
       "13   37       0\n",
       "15   49       0\n",
       "17   99       1\n",
       "2    78       1\n",
       "9    67       1\n",
       "18   32       1\n",
       "4    47       1\n",
       "12   49       0\n",
       "7    78       1\n",
       "10   19       0\n",
       "14   55       1\n",
       "6    30       0"
      ]
     },
     "execution_count": 4,
     "metadata": {},
     "output_type": "execute_result"
    }
   ],
   "source": [
    "x_train"
   ]
  },
  {
   "cell_type": "code",
   "execution_count": 5,
   "id": "f21e13a7",
   "metadata": {},
   "outputs": [
    {
     "data": {
      "text/html": [
       "<div>\n",
       "<style scoped>\n",
       "    .dataframe tbody tr th:only-of-type {\n",
       "        vertical-align: middle;\n",
       "    }\n",
       "\n",
       "    .dataframe tbody tr th {\n",
       "        vertical-align: top;\n",
       "    }\n",
       "\n",
       "    .dataframe thead th {\n",
       "        text-align: right;\n",
       "    }\n",
       "</style>\n",
       "<table border=\"1\" class=\"dataframe\">\n",
       "  <thead>\n",
       "    <tr style=\"text-align: right;\">\n",
       "      <th></th>\n",
       "      <th>age</th>\n",
       "      <th>afford</th>\n",
       "    </tr>\n",
       "  </thead>\n",
       "  <tbody>\n",
       "    <tr>\n",
       "      <th>0</th>\n",
       "      <td>12</td>\n",
       "      <td>0</td>\n",
       "    </tr>\n",
       "    <tr>\n",
       "      <th>5</th>\n",
       "      <td>2</td>\n",
       "      <td>0</td>\n",
       "    </tr>\n",
       "    <tr>\n",
       "      <th>11</th>\n",
       "      <td>18</td>\n",
       "      <td>1</td>\n",
       "    </tr>\n",
       "    <tr>\n",
       "      <th>1</th>\n",
       "      <td>55</td>\n",
       "      <td>1</td>\n",
       "    </tr>\n",
       "  </tbody>\n",
       "</table>\n",
       "</div>"
      ],
      "text/plain": [
       "    age  afford\n",
       "0    12       0\n",
       "5     2       0\n",
       "11   18       1\n",
       "1    55       1"
      ]
     },
     "execution_count": 5,
     "metadata": {},
     "output_type": "execute_result"
    }
   ],
   "source": [
    "x_test\n",
    "\n"
   ]
  },
  {
   "cell_type": "code",
   "execution_count": 6,
   "id": "adf28d04",
   "metadata": {},
   "outputs": [],
   "source": [
    "# from tensorflow import keras\n",
    "# model=keras.Sequential([\n",
    "#     keras.layers.Dense(1,input_shape=(2,),activation='sigmoid',kernel_initializer='ones',bias_initializer='zeros')\n",
    "    \n",
    "# ])\n",
    "# model.compile(optimizer='adam',loss='binary_crossentropy',metrics=['accuracy'])\n",
    "# model.fit(x_train,y_train,epochs=50)"
   ]
  },
  {
   "cell_type": "code",
   "execution_count": 7,
   "id": "9d53393f",
   "metadata": {},
   "outputs": [],
   "source": [
    "x_scale=x_train.copy()\n",
    "x_test1=x_test.copy()"
   ]
  },
  {
   "cell_type": "code",
   "execution_count": 8,
   "id": "71926d59",
   "metadata": {},
   "outputs": [
    {
     "data": {
      "text/plain": [
       "0     0.12\n",
       "5     0.02\n",
       "11    0.18\n",
       "1     0.55\n",
       "Name: age, dtype: float64"
      ]
     },
     "execution_count": 8,
     "metadata": {},
     "output_type": "execute_result"
    }
   ],
   "source": [
    "x1=x_scale['age']/100\n",
    "x11=x_scale['afford']/100\n",
    "x2=x_test1['age']/100\n",
    "x2"
   ]
  },
  {
   "cell_type": "code",
   "execution_count": 9,
   "id": "253d8646",
   "metadata": {},
   "outputs": [
    {
     "name": "stdout",
     "output_type": "stream",
     "text": [
      "Epoch 1/50\n",
      "1/1 [==============================] - 2s 2s/step - loss: 18.1333 - accuracy: 0.6667\n",
      "Epoch 2/50\n",
      "1/1 [==============================] - 0s 8ms/step - loss: 18.1149 - accuracy: 0.6667\n",
      "Epoch 3/50\n",
      "1/1 [==============================] - 0s 19ms/step - loss: 18.0964 - accuracy: 0.6667\n",
      "Epoch 4/50\n",
      "1/1 [==============================] - 0s 4ms/step - loss: 18.0779 - accuracy: 0.6667\n",
      "Epoch 5/50\n",
      "1/1 [==============================] - 0s 3ms/step - loss: 18.0595 - accuracy: 0.6667\n",
      "Epoch 6/50\n",
      "1/1 [==============================] - 0s 2ms/step - loss: 18.0410 - accuracy: 0.6667\n",
      "Epoch 7/50\n",
      "1/1 [==============================] - 0s 4ms/step - loss: 18.0225 - accuracy: 0.6667\n",
      "Epoch 8/50\n",
      "1/1 [==============================] - 0s 8ms/step - loss: 18.0041 - accuracy: 0.6667\n",
      "Epoch 9/50\n",
      "1/1 [==============================] - 0s 4ms/step - loss: 17.9856 - accuracy: 0.6667\n",
      "Epoch 10/50\n",
      "1/1 [==============================] - 0s 7ms/step - loss: 17.9671 - accuracy: 0.6667\n",
      "Epoch 11/50\n",
      "1/1 [==============================] - 0s 4ms/step - loss: 17.9487 - accuracy: 0.6667\n",
      "Epoch 12/50\n",
      "1/1 [==============================] - 0s 7ms/step - loss: 17.9302 - accuracy: 0.6667\n",
      "Epoch 13/50\n",
      "1/1 [==============================] - 0s 5ms/step - loss: 17.9117 - accuracy: 0.6667\n",
      "Epoch 14/50\n",
      "1/1 [==============================] - 0s 6ms/step - loss: 17.8933 - accuracy: 0.6667\n",
      "Epoch 15/50\n",
      "1/1 [==============================] - 0s 10ms/step - loss: 17.8748 - accuracy: 0.6667\n",
      "Epoch 16/50\n",
      "1/1 [==============================] - 0s 4ms/step - loss: 17.8563 - accuracy: 0.6667\n",
      "Epoch 17/50\n",
      "1/1 [==============================] - 0s 9ms/step - loss: 17.8379 - accuracy: 0.6667\n",
      "Epoch 18/50\n",
      "1/1 [==============================] - 0s 4ms/step - loss: 17.8194 - accuracy: 0.6667\n",
      "Epoch 19/50\n",
      "1/1 [==============================] - 0s 6ms/step - loss: 17.8009 - accuracy: 0.6667\n",
      "Epoch 20/50\n",
      "1/1 [==============================] - 0s 8ms/step - loss: 17.7825 - accuracy: 0.6667\n",
      "Epoch 21/50\n",
      "1/1 [==============================] - 0s 9ms/step - loss: 17.7640 - accuracy: 0.6667\n",
      "Epoch 22/50\n",
      "1/1 [==============================] - 0s 5ms/step - loss: 17.7455 - accuracy: 0.6667\n",
      "Epoch 23/50\n",
      "1/1 [==============================] - 0s 7ms/step - loss: 17.7271 - accuracy: 0.6667\n",
      "Epoch 24/50\n",
      "1/1 [==============================] - 0s 8ms/step - loss: 17.7086 - accuracy: 0.6667\n",
      "Epoch 25/50\n",
      "1/1 [==============================] - 0s 15ms/step - loss: 17.6901 - accuracy: 0.6667\n",
      "Epoch 26/50\n",
      "1/1 [==============================] - 0s 3ms/step - loss: 17.6717 - accuracy: 0.6667\n",
      "Epoch 27/50\n",
      "1/1 [==============================] - 0s 3ms/step - loss: 17.6532 - accuracy: 0.6667\n",
      "Epoch 28/50\n",
      "1/1 [==============================] - 0s 12ms/step - loss: 17.6347 - accuracy: 0.6667\n",
      "Epoch 29/50\n",
      "1/1 [==============================] - 0s 10ms/step - loss: 17.6163 - accuracy: 0.6667\n",
      "Epoch 30/50\n",
      "1/1 [==============================] - 0s 9ms/step - loss: 17.5978 - accuracy: 0.6667\n",
      "Epoch 31/50\n",
      "1/1 [==============================] - 0s 4ms/step - loss: 17.5793 - accuracy: 0.6667\n",
      "Epoch 32/50\n",
      "1/1 [==============================] - 0s 3ms/step - loss: 17.5609 - accuracy: 0.6667\n",
      "Epoch 33/50\n",
      "1/1 [==============================] - 0s 3ms/step - loss: 17.5424 - accuracy: 0.6667\n",
      "Epoch 34/50\n",
      "1/1 [==============================] - 0s 4ms/step - loss: 17.5239 - accuracy: 0.6667\n",
      "Epoch 35/50\n",
      "1/1 [==============================] - 0s 7ms/step - loss: 17.5055 - accuracy: 0.6667\n",
      "Epoch 36/50\n",
      "1/1 [==============================] - 0s 3ms/step - loss: 17.4870 - accuracy: 0.6667\n",
      "Epoch 37/50\n",
      "1/1 [==============================] - 0s 5ms/step - loss: 17.4685 - accuracy: 0.6667\n",
      "Epoch 38/50\n",
      "1/1 [==============================] - 0s 3ms/step - loss: 17.4501 - accuracy: 0.6667\n",
      "Epoch 39/50\n",
      "1/1 [==============================] - 0s 7ms/step - loss: 17.4316 - accuracy: 0.6667\n",
      "Epoch 40/50\n",
      "1/1 [==============================] - 0s 9ms/step - loss: 17.4131 - accuracy: 0.6667\n",
      "Epoch 41/50\n",
      "1/1 [==============================] - 0s 5ms/step - loss: 17.3947 - accuracy: 0.6667\n",
      "Epoch 42/50\n",
      "1/1 [==============================] - 0s 6ms/step - loss: 17.3762 - accuracy: 0.6667\n",
      "Epoch 43/50\n",
      "1/1 [==============================] - 0s 6ms/step - loss: 17.3577 - accuracy: 0.6667\n",
      "Epoch 44/50\n",
      "1/1 [==============================] - 0s 4ms/step - loss: 17.3393 - accuracy: 0.6667\n",
      "Epoch 45/50\n",
      "1/1 [==============================] - 0s 4ms/step - loss: 17.3208 - accuracy: 0.6667\n",
      "Epoch 46/50\n",
      "1/1 [==============================] - 0s 5ms/step - loss: 17.3023 - accuracy: 0.6667\n",
      "Epoch 47/50\n",
      "1/1 [==============================] - 0s 10ms/step - loss: 17.2839 - accuracy: 0.6667\n",
      "Epoch 48/50\n",
      "1/1 [==============================] - 0s 5ms/step - loss: 17.2654 - accuracy: 0.6667\n",
      "Epoch 49/50\n",
      "1/1 [==============================] - 0s 7ms/step - loss: 17.2469 - accuracy: 0.6667\n",
      "Epoch 50/50\n",
      "1/1 [==============================] - 0s 11ms/step - loss: 17.2285 - accuracy: 0.6667\n"
     ]
    },
    {
     "data": {
      "text/plain": [
       "<keras.callbacks.History at 0x25ef5b9f040>"
      ]
     },
     "execution_count": 9,
     "metadata": {},
     "output_type": "execute_result"
    }
   ],
   "source": [
    "from tensorflow import keras\n",
    "model=keras.Sequential([\n",
    "    keras.layers.Dense(1,input_shape=(2,),activation='sigmoid',kernel_initializer='ones',bias_initializer='zeros')\n",
    "    \n",
    "])\n",
    "model.compile(optimizer='adam',loss='binary_crossentropy',metrics=['accuracy'])\n",
    "model.fit(x_scale,y_train,epochs=50)"
   ]
  },
  {
   "cell_type": "code",
   "execution_count": 10,
   "id": "aca2e1b7",
   "metadata": {},
   "outputs": [
    {
     "data": {
      "text/plain": [
       "array([[0.99999976],\n",
       "       [1.        ],\n",
       "       [1.        ],\n",
       "       [1.        ],\n",
       "       [1.        ],\n",
       "       [1.        ],\n",
       "       [1.        ],\n",
       "       [1.        ],\n",
       "       [1.        ],\n",
       "       [1.        ],\n",
       "       [1.        ],\n",
       "       [1.        ],\n",
       "       [1.        ],\n",
       "       [1.        ],\n",
       "       [1.        ]], dtype=float32)"
      ]
     },
     "execution_count": 10,
     "metadata": {},
     "output_type": "execute_result"
    }
   ],
   "source": [
    "# model.evaluate(x1,y_test)\n",
    "model.predict(x_scale)\n"
   ]
  },
  {
   "cell_type": "code",
   "execution_count": 11,
   "id": "a620b82c",
   "metadata": {},
   "outputs": [
    {
     "data": {
      "text/plain": [
       "0     0\n",
       "5     0\n",
       "11    0\n",
       "1     1\n",
       "Name: insurance, dtype: int64"
      ]
     },
     "execution_count": 11,
     "metadata": {},
     "output_type": "execute_result"
    }
   ],
   "source": [
    "y_test"
   ]
  },
  {
   "cell_type": "code",
   "execution_count": 12,
   "id": "6fb31f0c",
   "metadata": {},
   "outputs": [],
   "source": [
    "coef,intercept=model.get_weights()"
   ]
  },
  {
   "cell_type": "code",
   "execution_count": 13,
   "id": "2294f096",
   "metadata": {},
   "outputs": [
    {
     "data": {
      "text/plain": [
       "(array([[0.95000064],\n",
       "        [0.95000064]], dtype=float32),\n",
       " array([-0.04999986], dtype=float32))"
      ]
     },
     "execution_count": 13,
     "metadata": {},
     "output_type": "execute_result"
    }
   ],
   "source": [
    "coef,intercept"
   ]
  },
  {
   "cell_type": "code",
   "execution_count": 14,
   "id": "3e959cb8",
   "metadata": {},
   "outputs": [],
   "source": [
    "import math\n",
    "\n",
    "def sigmoid(x):\n",
    "    sig = 1 / (1 + math.exp(-x))\n",
    "    return sig\n",
    "# sigmoid(18)"
   ]
  },
  {
   "cell_type": "code",
   "execution_count": 15,
   "id": "8dc27c29",
   "metadata": {},
   "outputs": [],
   "source": [
    "def predition_function(age,afford):\n",
    "#     intercept=1\n",
    "    weighted_sum=coef[0]*age+coef[1]*afford+intercept\n",
    "    return sigmoid(weighted_sum)\n"
   ]
  },
  {
   "cell_type": "code",
   "execution_count": 16,
   "id": "e5521459",
   "metadata": {},
   "outputs": [
    {
     "data": {
      "text/plain": [
       "1.0"
      ]
     },
     "execution_count": 16,
     "metadata": {},
     "output_type": "execute_result"
    }
   ],
   "source": [
    "predition_function(47,1)"
   ]
  },
  {
   "cell_type": "code",
   "execution_count": 17,
   "id": "c1f24af0",
   "metadata": {},
   "outputs": [
    {
     "data": {
      "text/plain": [
       "8     0.15\n",
       "16    0.66\n",
       "3     0.90\n",
       "13    0.37\n",
       "15    0.49\n",
       "17    0.99\n",
       "2     0.78\n",
       "9     0.67\n",
       "18    0.32\n",
       "4     0.47\n",
       "12    0.49\n",
       "7     0.78\n",
       "10    0.19\n",
       "14    0.55\n",
       "6     0.30\n",
       "Name: age, dtype: float64"
      ]
     },
     "execution_count": 17,
     "metadata": {},
     "output_type": "execute_result"
    }
   ],
   "source": [
    "x1"
   ]
  },
  {
   "cell_type": "code",
   "execution_count": 18,
   "id": "a22f3f54",
   "metadata": {},
   "outputs": [
    {
     "data": {
      "text/plain": [
       "8     0.01\n",
       "16    0.00\n",
       "3     0.00\n",
       "13    0.00\n",
       "15    0.00\n",
       "17    0.01\n",
       "2     0.01\n",
       "9     0.01\n",
       "18    0.01\n",
       "4     0.01\n",
       "12    0.00\n",
       "7     0.01\n",
       "10    0.00\n",
       "14    0.01\n",
       "6     0.00\n",
       "Name: afford, dtype: float64"
      ]
     },
     "execution_count": 18,
     "metadata": {},
     "output_type": "execute_result"
    }
   ],
   "source": [
    "x11"
   ]
  },
  {
   "cell_type": "code",
   "execution_count": 19,
   "id": "f4123173",
   "metadata": {},
   "outputs": [
    {
     "data": {
      "text/plain": [
       "8     0\n",
       "16    1\n",
       "3     0\n",
       "13    1\n",
       "15    1\n",
       "17    1\n",
       "2     0\n",
       "9     0\n",
       "18    1\n",
       "4     1\n",
       "12    1\n",
       "7     1\n",
       "10    0\n",
       "14    1\n",
       "6     1\n",
       "Name: insurance, dtype: int64"
      ]
     },
     "execution_count": 19,
     "metadata": {},
     "output_type": "execute_result"
    }
   ],
   "source": [
    "y_train"
   ]
  },
  {
   "cell_type": "code",
   "execution_count": 20,
   "id": "028784e3",
   "metadata": {},
   "outputs": [],
   "source": [
    "def log_loss(y_true,y_predicted):\n",
    "    e=1e-15\n",
    "    y_pred_new=[max(i,e) for i in y_predicted]\n",
    "    y_pred_new=[min(i,e) for i in y_pred_new]\n",
    "    y_pred_new=np.array(y_pred_new)\n",
    "    return  -np.mean(y_true*np.log(y_pred_new)+(1-y_true)*np.log(1-y_pred_new))\n"
   ]
  },
  {
   "cell_type": "code",
   "execution_count": 21,
   "id": "8e43f185",
   "metadata": {},
   "outputs": [
    {
     "data": {
      "text/plain": [
       "array([0.99999386, 0.5       , 0.73105858])"
      ]
     },
     "execution_count": 21,
     "metadata": {},
     "output_type": "execute_result"
    }
   ],
   "source": [
    "def sigmoid_numpy(x):\n",
    "    return 1/(1+np.exp(-x))\n",
    "sigmoid_numpy(np.array([12,0,1]))\n"
   ]
  },
  {
   "cell_type": "code",
   "execution_count": 23,
   "id": "4e68f0d1",
   "metadata": {},
   "outputs": [],
   "source": [
    "class cm:\n",
    "    def  __init__(self):\n",
    "        self.w1=1\n",
    "        self.w2=1\n",
    "        self.bias=0\n",
    "    def fit(self,x,y,epochs,loss_thresold):\n",
    "        self.w1,self.w2,self.bias=self.gradient(x['age'],x['afford'],y,epochs,loss_thresold)\n",
    "    def predict(self,x_test):\n",
    "        weighted_sum=self.w1*x_test['age']+self.w2*x_test['afford']+self.bias\n",
    "        return sigmoid_numpy(weighted_sum)\n",
    "    def gradient(self,age,afford,y_true,epochs,loss_thresold):\n",
    "        w1=w2=1\n",
    "        bias=0\n",
    "        rate=0.5\n",
    "        n=len(age)\n",
    "        for i in range(epochs):\n",
    "            weighted_sum=w1*age+w2*afford+bias\n",
    "            y_predicted=sigmoid_numpy(weighted_sum)\n",
    "            loss=log_loss(y_true,y_predicted)\n",
    "            w1d=(1/n)*np.dot(np.transpose(age),(y_predicted-y_true))\n",
    "            w2d=(1/n)*np.dot(np.transpose(afford),(y_predicted-y_true))\n",
    "            bias_d=np.mean(y_predicted-y_true)\n",
    "            w1=w1-rate*w1d\n",
    "            w2=w2-rate*w2d\n",
    "            bias=bias-rate*bias_d\n",
    "            if i%50==0:\n",
    "                print(f\"epoch:{i},w1:{w1},w2:{w2},b:{bias},loss:{loss}\")\n",
    "            if loss<=loss_thresold:\n",
    "                break\n",
    "        return w1,w2,bias\n",
    "    \n",
    "\n",
    "        "
   ]
  },
  {
   "cell_type": "code",
   "execution_count": 24,
   "id": "fe3cf101",
   "metadata": {},
   "outputs": [],
   "source": [
    "# gradient(x_scale['age'],x_scale['afford'],y_train,1000, 17.2285)"
   ]
  },
  {
   "cell_type": "code",
   "execution_count": 25,
   "id": "07b03879",
   "metadata": {},
   "outputs": [],
   "source": [
    "# y_predicted"
   ]
  },
  {
   "cell_type": "code",
   "execution_count": 26,
   "id": "ad152f69",
   "metadata": {},
   "outputs": [],
   "source": [
    "# (array([[0.95000064],\n",
    "#         [0.95000064]], dtype=float32),\n",
    "# #  array([-0.04999986], dtype=float32))"
   ]
  },
  {
   "cell_type": "code",
   "execution_count": 27,
   "id": "50460f0d",
   "metadata": {},
   "outputs": [
    {
     "name": "stdout",
     "output_type": "stream",
     "text": [
      "epoch:0,w1:-7.96666660685055,w2:0.9000000037511722,b:-0.16666666272873146,loss:23.025850929940454\n"
     ]
    },
    {
     "name": "stderr",
     "output_type": "stream",
     "text": [
      "c:\\python3.9\\lib\\site-packages\\pandas\\core\\arraylike.py:364: RuntimeWarning: overflow encountered in exp\n",
      "  result = getattr(ufunc, method)(*inputs, **kwargs)\n"
     ]
    }
   ],
   "source": [
    "custommodel=cm()\n",
    "custommodel.fit(x_scale,y_train,epochs=5,loss_thresold=17.2285 )"
   ]
  },
  {
   "cell_type": "code",
   "execution_count": 28,
   "id": "6df3a016",
   "metadata": {},
   "outputs": [
    {
     "data": {
      "text/plain": [
       "8     1.0\n",
       "16    1.0\n",
       "3     1.0\n",
       "13    1.0\n",
       "15    1.0\n",
       "17    1.0\n",
       "2     1.0\n",
       "9     1.0\n",
       "18    1.0\n",
       "4     1.0\n",
       "12    1.0\n",
       "7     1.0\n",
       "10    1.0\n",
       "14    1.0\n",
       "6     1.0\n",
       "dtype: float64"
      ]
     },
     "execution_count": 28,
     "metadata": {},
     "output_type": "execute_result"
    }
   ],
   "source": [
    "custommodel.predict(x_scale)"
   ]
  },
  {
   "cell_type": "code",
   "execution_count": 29,
   "id": "f1951e2e",
   "metadata": {},
   "outputs": [
    {
     "data": {
      "text/plain": [
       "array([[0.99999976],\n",
       "       [1.        ],\n",
       "       [1.        ],\n",
       "       [1.        ],\n",
       "       [1.        ],\n",
       "       [1.        ],\n",
       "       [1.        ],\n",
       "       [1.        ],\n",
       "       [1.        ],\n",
       "       [1.        ],\n",
       "       [1.        ],\n",
       "       [1.        ],\n",
       "       [1.        ],\n",
       "       [1.        ],\n",
       "       [1.        ]], dtype=float32)"
      ]
     },
     "execution_count": 29,
     "metadata": {},
     "output_type": "execute_result"
    }
   ],
   "source": [
    "model.predict(x_scale)"
   ]
  },
  {
   "cell_type": "code",
   "execution_count": null,
   "id": "7ec3af05",
   "metadata": {},
   "outputs": [],
   "source": []
  }
 ],
 "metadata": {
  "kernelspec": {
   "display_name": "Python 3 (ipykernel)",
   "language": "python",
   "name": "python3"
  },
  "language_info": {
   "codemirror_mode": {
    "name": "ipython",
    "version": 3
   },
   "file_extension": ".py",
   "mimetype": "text/x-python",
   "name": "python",
   "nbconvert_exporter": "python",
   "pygments_lexer": "ipython3",
   "version": "3.9.2"
  }
 },
 "nbformat": 4,
 "nbformat_minor": 5
}
